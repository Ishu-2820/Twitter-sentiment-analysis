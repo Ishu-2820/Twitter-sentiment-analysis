{
  "nbformat": 4,
  "nbformat_minor": 0,
  "metadata": {
    "colab": {
      "provenance": []
    },
    "kernelspec": {
      "name": "python3",
      "display_name": "Python 3"
    },
    "language_info": {
      "name": "python"
    }
  },
  "cells": [
    {
      "cell_type": "code",
      "execution_count": null,
      "metadata": {
        "id": "4ANlwI7gc4_A"
      },
      "outputs": [],
      "source": [
        "import pandas as pd\n",
        "import numpy as np\n",
        "import re\n",
        "import nltk\n",
        "from nltk.corpus import stopwords\n",
        "from nltk.stem.porter import PorterStemmer\n",
        "from sklearn.feature_extraction.text import CountVectorizer\n",
        "from sklearn.model_selection import train_test_split\n",
        "from sklearn.linear_model import LogisticRegression\n",
        "from sklearn.metrics import confusion_matrix, classification_report\n",
        "import matplotlib.pyplot as plt\n",
        "import seaborn as sns\n",
        "Y\n",
        "# Load the dataset\n",
        "df = pd.read_csv(\"/content/drive/MyDrive/Airline dataset.csv\")\n",
        "\n",
        "# Keep only the relevant columns\n",
        "df = df[['airline_sentimtxr RR lent', 'text']]"
      ]
    },
    {
      "cell_type": "code",
      "source": [
        "from google.colab import drive\n",
        "drive.mount('/content/drive')"
      ],
      "metadata": {
        "colab": {
          "base_uri": "https://localhost:8080/"
        },
        "id": "rJV0q5tAd5lQ",
        "outputId": "46bf7c3d-b2a2-4b5e-f00f-70ec42266975"
      },
      "execution_count": null,
      "outputs": [
        {
          "output_type": "stream",
          "name": "stdout",
          "text": [
            "Drive already mounted at /content/drive; to attempt to forcibly remount, call drive.mount(\"/content/drive\", force_remount=True).\n"
          ]
        }
      ]
    },
    {
      "cell_type": "code",
      "source": [
        "# Check the class distribution before preprocessing\n",
        "print(\"Class distribution before preprocessing:\")\n",
        "print(df['airline_sentiment'].value_counts())"
      ],
      "metadata": {
        "colab": {
          "base_uri": "https://localhost:8080/"
        },
        "id": "5j2Xyj5teTrK",
        "outputId": "a3ff838b-af1a-4c8e-80bf-718a2f17afd6"
      },
      "execution_count": null,
      "outputs": [
        {
          "output_type": "stream",
          "name": "stdout",
          "text": [
            "Class distribution before preprocessing:\n",
            "airline_sentiment\n",
            "negative    9178\n",
            "neutral     3099\n",
            "positive    2363\n",
            "Name: count, dtype: int64\n"
          ]
        }
      ]
    },
    {
      "cell_type": "code",
      "source": [
        "# Data Preprocessing\n",
        "nltk.download('stopwords')\n",
        "stop_words = set(stopwords.words('english'))\n",
        "stemmer = PorterStemmer()\n",
        "\n",
        "def preprocess_text(text):\n",
        "    if isinstance(text, str):\n",
        "        text = re.sub(r'http\\S+|www\\S+|https\\S+', '', text, flags=re.MULTILINE)\n",
        "        text = re.sub(r'\\@w+|\\#', '', text)\n",
        "        text = re.sub(r'[^A-Za-z\\s]', '', text.lower())\n",
        "        tokens = text.split()\n",
        "        tokens = [stemmer.stem(word) for word in tokens if word not in stop_words]\n",
        "        return ' '.join(tokens)\n",
        "    else:\n",
        "        return ''\n",
        "\n",
        "df['text'] = df['text'].astype(str)\n",
        "df['cleaned_text'] = df['text'].apply(preprocess_text)"
      ],
      "metadata": {
        "colab": {
          "base_uri": "https://localhost:8080/"
        },
        "id": "teyHchhheVg5",
        "outputId": "a6456f9f-1f7b-404b-f438-df38dae511a4"
      },
      "execution_count": null,
      "outputs": [
        {
          "output_type": "stream",
          "name": "stderr",
          "text": [
            "[nltk_data] Downloading package stopwords to /root/nltk_data...\n",
            "[nltk_data]   Package stopwords is already up-to-date!\n"
          ]
        }
      ]
    },
    {
      "cell_type": "code",
      "source": [
        "# Check the class distribution after preprocessing\n",
        "print(\"Class distribution after preprocessing:\")\n",
        "print(df['airline_sentiment'].value_counts())"
      ],
      "metadata": {
        "colab": {
          "base_uri": "https://localhost:8080/"
        },
        "id": "QU8VEqz0eZgp",
        "outputId": "fe238edc-48e7-488c-c9d1-f81e12c2ba5b"
      },
      "execution_count": null,
      "outputs": [
        {
          "output_type": "stream",
          "name": "stdout",
          "text": [
            "Class distribution after preprocessing:\n",
            "airline_sentiment\n",
            "negative    9178\n",
            "neutral     3099\n",
            "positive    2363\n",
            "Name: count, dtype: int64\n"
          ]
        }
      ]
    },
    {
      "cell_type": "code",
      "source": [
        "# Filter the dataset to ensure both classes are present\n",
        "# We will take only positive and negative sentiments for binary classification\n",
        "df = df[df['airline_sentiment'].isin(['positive', 'negative'])]"
      ],
      "metadata": {
        "id": "qm9rwlBneeBZ"
      },
      "execution_count": null,
      "outputs": []
    },
    {
      "cell_type": "code",
      "source": [
        "# Check the class distribution after filtering\n",
        "print(\"Class distribution after filtering:\")\n",
        "print(df['airline_sentiment'].value_counts())\n"
      ],
      "metadata": {
        "colab": {
          "base_uri": "https://localhost:8080/"
        },
        "id": "G1xMYvM5egmI",
        "outputId": "5e53126d-d554-44c3-ed78-d73996034cc7"
      },
      "execution_count": null,
      "outputs": [
        {
          "output_type": "stream",
          "name": "stdout",
          "text": [
            "Class distribution after filtering:\n",
            "airline_sentiment\n",
            "negative    9178\n",
            "positive    2363\n",
            "Name: count, dtype: int64\n"
          ]
        }
      ]
    },
    {
      "cell_type": "code",
      "source": [
        "# Sentiment Analysis Labels\n",
        "df['sentiment'] = df['airline_sentiment']"
      ],
      "metadata": {
        "id": "S-ioPOxCejMY"
      },
      "execution_count": null,
      "outputs": []
    },
    {
      "cell_type": "code",
      "source": [
        "# Ensure that both classes are present\n",
        "if df['sentiment'].nunique() < 2:\n",
        "    raise ValueError(\"The dataset needs to contain at least two classes for training the model.\")"
      ],
      "metadata": {
        "id": "med11dKselkp"
      },
      "execution_count": null,
      "outputs": []
    },
    {
      "cell_type": "code",
      "source": [
        "# Feature Extraction\n",
        "vectorizer = CountVectorizer()\n",
        "X = vectorizer.fit_transform(df['cleaned_text'])\n",
        "y = df['sentiment']"
      ],
      "metadata": {
        "id": "_A9WMFImesCK"
      },
      "execution_count": null,
      "outputs": []
    },
    {
      "cell_type": "code",
      "source": [
        "# Train-Test Split\n",
        "X_train, X_test, y_train, y_test = train_test_split(X, y, test_size=0.2, random_state=42, stratify=y)\n"
      ],
      "metadata": {
        "id": "PSdNkC3dewhB"
      },
      "execution_count": null,
      "outputs": []
    },
    {
      "cell_type": "code",
      "source": [
        "# Check the distribution of classes in the training set\n",
        "print(\"Class distribution in the training set:\")\n",
        "print(y_train.value_counts())"
      ],
      "metadata": {
        "colab": {
          "base_uri": "https://localhost:8080/"
        },
        "id": "Yn1V8hf5ez7b",
        "outputId": "ddf047ad-9d3f-4902-8063-2a8f2b40a911"
      },
      "execution_count": null,
      "outputs": [
        {
          "output_type": "stream",
          "name": "stdout",
          "text": [
            "Class distribution in the training set:\n",
            "sentiment\n",
            "negative    7342\n",
            "positive    1890\n",
            "Name: count, dtype: int64\n"
          ]
        }
      ]
    },
    {
      "cell_type": "code",
      "source": [
        "# Train the Logistic Regression Model\n",
        "model = LogisticRegression(max_iter=1000)\n",
        "model.fit(X_train, y_train)"
      ],
      "metadata": {
        "colab": {
          "base_uri": "https://localhost:8080/",
          "height": 74
        },
        "id": "DAdPKatSe2Ms",
        "outputId": "4db00b2e-698d-4243-cf3c-a0da5f97acb4"
      },
      "execution_count": null,
      "outputs": [
        {
          "output_type": "execute_result",
          "data": {
            "text/plain": [
              "LogisticRegression(max_iter=1000)"
            ],
            "text/html": [
              "<style>#sk-container-id-3 {color: black;background-color: white;}#sk-container-id-3 pre{padding: 0;}#sk-container-id-3 div.sk-toggleable {background-color: white;}#sk-container-id-3 label.sk-toggleable__label {cursor: pointer;display: block;width: 100%;margin-bottom: 0;padding: 0.3em;box-sizing: border-box;text-align: center;}#sk-container-id-3 label.sk-toggleable__label-arrow:before {content: \"▸\";float: left;margin-right: 0.25em;color: #696969;}#sk-container-id-3 label.sk-toggleable__label-arrow:hover:before {color: black;}#sk-container-id-3 div.sk-estimator:hover label.sk-toggleable__label-arrow:before {color: black;}#sk-container-id-3 div.sk-toggleable__content {max-height: 0;max-width: 0;overflow: hidden;text-align: left;background-color: #f0f8ff;}#sk-container-id-3 div.sk-toggleable__content pre {margin: 0.2em;color: black;border-radius: 0.25em;background-color: #f0f8ff;}#sk-container-id-3 input.sk-toggleable__control:checked~div.sk-toggleable__content {max-height: 200px;max-width: 100%;overflow: auto;}#sk-container-id-3 input.sk-toggleable__control:checked~label.sk-toggleable__label-arrow:before {content: \"▾\";}#sk-container-id-3 div.sk-estimator input.sk-toggleable__control:checked~label.sk-toggleable__label {background-color: #d4ebff;}#sk-container-id-3 div.sk-label input.sk-toggleable__control:checked~label.sk-toggleable__label {background-color: #d4ebff;}#sk-container-id-3 input.sk-hidden--visually {border: 0;clip: rect(1px 1px 1px 1px);clip: rect(1px, 1px, 1px, 1px);height: 1px;margin: -1px;overflow: hidden;padding: 0;position: absolute;width: 1px;}#sk-container-id-3 div.sk-estimator {font-family: monospace;background-color: #f0f8ff;border: 1px dotted black;border-radius: 0.25em;box-sizing: border-box;margin-bottom: 0.5em;}#sk-container-id-3 div.sk-estimator:hover {background-color: #d4ebff;}#sk-container-id-3 div.sk-parallel-item::after {content: \"\";width: 100%;border-bottom: 1px solid gray;flex-grow: 1;}#sk-container-id-3 div.sk-label:hover label.sk-toggleable__label {background-color: #d4ebff;}#sk-container-id-3 div.sk-serial::before {content: \"\";position: absolute;border-left: 1px solid gray;box-sizing: border-box;top: 0;bottom: 0;left: 50%;z-index: 0;}#sk-container-id-3 div.sk-serial {display: flex;flex-direction: column;align-items: center;background-color: white;padding-right: 0.2em;padding-left: 0.2em;position: relative;}#sk-container-id-3 div.sk-item {position: relative;z-index: 1;}#sk-container-id-3 div.sk-parallel {display: flex;align-items: stretch;justify-content: center;background-color: white;position: relative;}#sk-container-id-3 div.sk-item::before, #sk-container-id-3 div.sk-parallel-item::before {content: \"\";position: absolute;border-left: 1px solid gray;box-sizing: border-box;top: 0;bottom: 0;left: 50%;z-index: -1;}#sk-container-id-3 div.sk-parallel-item {display: flex;flex-direction: column;z-index: 1;position: relative;background-color: white;}#sk-container-id-3 div.sk-parallel-item:first-child::after {align-self: flex-end;width: 50%;}#sk-container-id-3 div.sk-parallel-item:last-child::after {align-self: flex-start;width: 50%;}#sk-container-id-3 div.sk-parallel-item:only-child::after {width: 0;}#sk-container-id-3 div.sk-dashed-wrapped {border: 1px dashed gray;margin: 0 0.4em 0.5em 0.4em;box-sizing: border-box;padding-bottom: 0.4em;background-color: white;}#sk-container-id-3 div.sk-label label {font-family: monospace;font-weight: bold;display: inline-block;line-height: 1.2em;}#sk-container-id-3 div.sk-label-container {text-align: center;}#sk-container-id-3 div.sk-container {/* jupyter's `normalize.less` sets `[hidden] { display: none; }` but bootstrap.min.css set `[hidden] { display: none !important; }` so we also need the `!important` here to be able to override the default hidden behavior on the sphinx rendered scikit-learn.org. See: https://github.com/scikit-learn/scikit-learn/issues/21755 */display: inline-block !important;position: relative;}#sk-container-id-3 div.sk-text-repr-fallback {display: none;}</style><div id=\"sk-container-id-3\" class=\"sk-top-container\"><div class=\"sk-text-repr-fallback\"><pre>LogisticRegression(max_iter=1000)</pre><b>In a Jupyter environment, please rerun this cell to show the HTML representation or trust the notebook. <br />On GitHub, the HTML representation is unable to render, please try loading this page with nbviewer.org.</b></div><div class=\"sk-container\" hidden><div class=\"sk-item\"><div class=\"sk-estimator sk-toggleable\"><input class=\"sk-toggleable__control sk-hidden--visually\" id=\"sk-estimator-id-3\" type=\"checkbox\" checked><label for=\"sk-estimator-id-3\" class=\"sk-toggleable__label sk-toggleable__label-arrow\">LogisticRegression</label><div class=\"sk-toggleable__content\"><pre>LogisticRegression(max_iter=1000)</pre></div></div></div></div></div>"
            ]
          },
          "metadata": {},
          "execution_count": 49
        }
      ]
    },
    {
      "cell_type": "code",
      "source": [
        "# Evaluate the Model\n",
        "y_pred = model.predict(X_test)\n",
        "print(confusion_matrix(y_test, y_pred))\n",
        "print(classification_report(y_test, y_pred))\n"
      ],
      "metadata": {
        "colab": {
          "base_uri": "https://localhost:8080/"
        },
        "id": "9ROnbBOJe4j9",
        "outputId": "717e11f1-87e1-4785-9b76-5d2d191ec157"
      },
      "execution_count": null,
      "outputs": [
        {
          "output_type": "stream",
          "name": "stdout",
          "text": [
            "[[1779   57]\n",
            " [ 143  330]]\n",
            "              precision    recall  f1-score   support\n",
            "\n",
            "    negative       0.93      0.97      0.95      1836\n",
            "    positive       0.85      0.70      0.77       473\n",
            "\n",
            "    accuracy                           0.91      2309\n",
            "   macro avg       0.89      0.83      0.86      2309\n",
            "weighted avg       0.91      0.91      0.91      2309\n",
            "\n"
          ]
        }
      ]
    },
    {
      "cell_type": "markdown",
      "source": [
        " Visualize the Results\n"
      ],
      "metadata": {
        "id": "YD7be3Ace8E7"
      }
    },
    {
      "cell_type": "code",
      "source": [
        "# Confusion Matrix Heatmap\n",
        "conf_matrix = confusion_matrix(y_test, y_pred)\n",
        "sns.heatmap(conf_matrix, annot=True, fmt='d', cmap='Blues')\n",
        "plt.xlabel('Predicted')\n",
        "plt.ylabel('Actual')\n",
        "plt.title('Confusion Matrix')\n",
        "plt.show()\n"
      ],
      "metadata": {
        "colab": {
          "base_uri": "https://localhost:8080/",
          "height": 472
        },
        "id": "qsyKEtZCfDfS",
        "outputId": "0e8ade12-eb95-4d24-cb54-2690e88e1fee"
      },
      "execution_count": null,
      "outputs": [
        {
          "output_type": "display_data",
          "data": {
            "text/plain": [
              "<Figure size 640x480 with 2 Axes>"
            ],
            "image/png": "[encoded data removed]"
          },
          "metadata": {}
        }
      ]
    },
    {
      "cell_type": "markdown",
      "source": [
        "Introduction:\n",
        "\n",
        "The confusion matrix provides a summary of the performance of our logistic regression model on the test data for Twitter sentiment analysis.\n",
        "\n",
        "Details:\n",
        "\n",
        "\n",
        "True Negatives (TN = 1779): Correctly predicted negative tweets.\n",
        "\n",
        "False Positives (FP = 57): Negative tweets incorrectly predicted as positive.\n",
        "\n",
        "False Negatives (FN = 143): Positive tweets incorrectly predicted as negative.\n",
        "\n",
        "True Positives (TP = 330): Correctly predicted positive tweets.\n",
        "\n",
        "Performance Metrics:\n",
        "\n",
        "Accuracy: 91.4%\n",
        "\n",
        "The model correctly predicted the sentiment of 91.4% of the tweets.\n",
        "\n",
        "Precision: 85.3%\n",
        "\n",
        "Of the tweets predicted as positive, 85.3% were actually positive.\n",
        "\n",
        "Recall: 69.8%\n",
        "\n",
        "The model correctly identified 69.8% of the actual positive tweets.\n",
        "\n",
        "F1 Score: 76.7%\n",
        "\n",
        "This score balances precision and recall, indicating the overall effectiveness of the model.\n",
        "\n",
        "Conclusion:\n",
        "\n",
        "The confusion matrix heatmap visually illustrates the balance between true positives, true negatives, and the errors (false positives and false negatives).\n",
        "\n",
        "Overall, the model demonstrates high accuracy and precision, though there is room for improvement in recall."
      ],
      "metadata": {
        "id": "z49vTkS2fIMb"
      }
    },
    {
      "cell_type": "code",
      "source": [
        "# Bar Graph for Sentiment Distribution\n",
        "df['sentiment'].value_counts().plot(kind='bar')\n",
        "plt.xlabel('Sentiment')\n",
        "plt.ylabel('Count')\n",
        "plt.title('Sentiment Distribution')\n",
        "plt.show()"
      ],
      "metadata": {
        "colab": {
          "base_uri": "https://localhost:8080/",
          "height": 519
        },
        "id": "jYh9qRQcfNgb",
        "outputId": "a2f750b5-67f8-4283-c51d-3788418c075c"
      },
      "execution_count": null,
      "outputs": [
        {
          "output_type": "display_data",
          "data": {
            "text/plain": [
              "<Figure size 640x480 with 1 Axes>"
            ],
            "image/png": "[encoded data removed]"
          },
          "metadata": {}
        }
      ]
    },
    {
      "cell_type": "markdown",
      "source": [
        "Introduction:\n",
        "\n",
        "The bar graph illustrates the distribution of sentiments (positive and negative) in our Twitter dataset.\n",
        "Details:\n",
        "\n",
        "Negative Tweets: The dataset contains approximately 9000 negative tweets.\n",
        "\n",
        "Positive Tweets: The dataset contains approximately 2500 positive tweets.\n",
        "\n",
        "Insights:\n",
        "\n",
        "Imbalanced Dataset:\n",
        "The dataset shows a significant imbalance, with negative tweets far outnumbering positive tweets.\n",
        "\n",
        "This imbalance can lead to a bias in the sentiment analysis model, favoring negative sentiment predictions.\n",
        "\n",
        "Impact on Model Performance:\n",
        "\n",
        "To mitigate the effects of the imbalance, techniques such as stratified sampling during train-test splitting and performance metrics like F1 score, precision, and recall are crucial.\n",
        "\n",
        "Data Augmentation Considerations:\n",
        "\n",
        "Depending on the severity of the imbalance, data augmentation techniques like oversampling positive tweets or undersampling negative tweets may be necessary to enhance the model's performance.\n",
        "\n",
        "Conclusion:\n",
        "\n",
        "Understanding the distribution of sentiments in the dataset is critical for developing a robust sentiment analysis model.\n",
        "\n",
        "Addressing the class imbalance is essential to ensure the model performs well across both sentiment categories."
      ],
      "metadata": {
        "id": "VxvnFIlafSUV"
      }
    },
    {
      "cell_type": "code",
      "source": [
        "# Pie Chart for Sentiment Distribution\n",
        "df['sentiment'].value_counts().plot(kind='pie', autopct='%1.1f%%')\n",
        "plt.title('Sentiment Distribution')\n",
        "plt.show()"
      ],
      "metadata": {
        "colab": {
          "base_uri": "https://localhost:8080/",
          "height": 428
        },
        "id": "k_4lIJFafUvV",
        "outputId": "e80c41f3-41f5-4725-981b-50b355957411"
      },
      "execution_count": null,
      "outputs": [
        {
          "output_type": "display_data",
          "data": {
            "text/plain": [
              "<Figure size 640x480 with 1 Axes>"
            ],
            "image/png": "[encoded data removed]"
          },
          "metadata": {}
        }
      ]
    },
    {
      "cell_type": "markdown",
      "source": [
        "Introduction:\n",
        "\n",
        "The pie chart illustrates the distribution of sentiments (positive and negative) in our Twitter dataset.\n",
        "\n",
        "Details:\n",
        "\n",
        "Negative Tweets: Negative tweets constitute 79.5% of the dataset.\n",
        "    \n",
        "Positive Tweets: Positive tweets constitute 20.5% of the dataset.\n",
        "    \n",
        "Insights:\n",
        "\n",
        "Imbalanced Dataset:\n",
        "    \n",
        "The dataset shows a significant imbalance, with negative tweets making up a much larger portion (79.5%) compared to positive tweets (20.5%).\n",
        "\n",
        "This imbalance can lead to a bias in the sentiment analysis model, favoring negative sentiment predictions.\n",
        "\n",
        "Impact on Model Performance:\n",
        "    \n",
        "To mitigate the effects of the imbalance, techniques such as stratified sampling during train-test splitting and performance metrics like F1 score, precision, and recall are crucial.\n",
        "\n",
        "Data Augmentation Considerations:\n",
        "    \n",
        "Depending on the severity of the imbalance, data augmentation techniques like oversampling positive tweets or undersampling negative tweets may be necessary to enhance the model's performance.\n",
        "\n",
        "Conclusion:\n",
        "\n",
        "Understanding the distribution of sentiments in the dataset is critical for developing a robust sentiment analysis model.\n",
        "\n",
        "Addressing the class imbalance is essential to ensure the model performs well across both sentiment categories."
      ],
      "metadata": {
        "id": "_3VwLJZWfYxQ"
      }
    },
    {
      "cell_type": "code",
      "source": [
        "# Histogram of Tweet Lengths\n",
        "df['text_length'] = df['text'].apply(len)\n",
        "df['text_length'].plot(kind='hist', bins=20)\n",
        "plt.xlabel('Tweet Length')\n",
        "plt.ylabel('Frequency')\n",
        "plt.title('Histogram of Tweet Lengths')\n",
        "plt.show()"
      ],
      "metadata": {
        "colab": {
          "base_uri": "https://localhost:8080/",
          "height": 472
        },
        "id": "XBODOtdGfbGu",
        "outputId": "bc6a53b9-9475-450c-fdaf-f25a41c8b836"
      },
      "execution_count": null,
      "outputs": [
        {
          "output_type": "display_data",
          "data": {
            "text/plain": [
              "<Figure size 640x480 with 1 Axes>"
            ],
            "image/png": "[encoded data removed]"
          },
          "metadata": {}
        }
      ]
    },
    {
      "cell_type": "markdown",
      "source": [
        "Title: Histogram of Tweet Lengths\n",
        "    \n",
        "X-Axis: Represents the tweet length in characters (ranging from 0 to just under 175).\n",
        "    \n",
        "Y-Axis: Indicates the frequency of tweets for each length category (ranging from 0 to 3000).\n",
        "    \n",
        "Observations:\n",
        "    \n",
        "Most tweets cluster around the 140-character mark, which is the historical character limit for tweets on Twitter.\n",
        "\n",
        "There is a sharp drop-off in frequency for tweet lengths greater than 140 characters.\n",
        "\n",
        "Very few tweets have lengths close to 0 or approaching the maximum limit.\n",
        "\n",
        "This pattern suggests that users tend to maximize their use of available characters when composing tweets.\n",
        "\n",
        "The histogram provides insights into user behavior on Twitter and could be useful for data analysis presentations or social media studies."
      ],
      "metadata": {
        "id": "Oz-x-XePfe3W"
      }
    },
    {
      "cell_type": "code",
      "source": [],
      "metadata": {
        "id": "S9uB3fIGfg2O"
      },
      "execution_count": null,
      "outputs": []
    }
  ]
}